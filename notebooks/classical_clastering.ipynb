{
 "cells": [
  {
   "cell_type": "markdown",
   "metadata": {},
   "source": [
    "# Classical clustering with feature engineering approach"
   ]
  },
  {
   "cell_type": "code",
   "execution_count": 1,
   "metadata": {},
   "outputs": [],
   "source": [
    "import pandas as pd\n",
    "import matplotlib.pyplot as plt\n",
    "\n",
    "from IPython.display import display\n",
    "\n",
    "from tqdm import tqdm\n",
    "import numpy as np\n",
    "from sklearn.cluster import KMeans\n",
    "from sklearn.mixture import GaussianMixture\n",
    "from sklearn.metrics import silhouette_score, mutual_info_score\n",
    "from sklearn.model_selection import GridSearchCV, ParameterGrid\n",
    "from sklearn.metrics import make_scorer\n",
    "from sklearn.preprocessing import StandardScaler\n",
    "\n",
    "import sys\n",
    "sys.path.append('../src')\n",
    "from utils import *\n",
    "sys.path.remove('../src')"
   ]
  },
  {
   "cell_type": "code",
   "execution_count": 2,
   "metadata": {},
   "outputs": [
    {
     "data": {
      "text/html": [
       "<div>\n",
       "<style scoped>\n",
       "    .dataframe tbody tr th:only-of-type {\n",
       "        vertical-align: middle;\n",
       "    }\n",
       "\n",
       "    .dataframe tbody tr th {\n",
       "        vertical-align: top;\n",
       "    }\n",
       "\n",
       "    .dataframe thead th {\n",
       "        text-align: right;\n",
       "    }\n",
       "</style>\n",
       "<table border=\"1\" class=\"dataframe\">\n",
       "  <thead>\n",
       "    <tr style=\"text-align: right;\">\n",
       "      <th></th>\n",
       "      <th>id</th>\n",
       "      <th>time</th>\n",
       "      <th>ch0</th>\n",
       "      <th>ch1</th>\n",
       "      <th>ch2</th>\n",
       "    </tr>\n",
       "  </thead>\n",
       "  <tbody>\n",
       "    <tr>\n",
       "      <th>0</th>\n",
       "      <td>1_1</td>\n",
       "      <td>0</td>\n",
       "      <td>372.271894</td>\n",
       "      <td>350.219643</td>\n",
       "      <td>408.527289</td>\n",
       "    </tr>\n",
       "    <tr>\n",
       "      <th>1</th>\n",
       "      <td>1_1</td>\n",
       "      <td>1</td>\n",
       "      <td>373.393195</td>\n",
       "      <td>349.845876</td>\n",
       "      <td>411.143658</td>\n",
       "    </tr>\n",
       "    <tr>\n",
       "      <th>2</th>\n",
       "      <td>1_1</td>\n",
       "      <td>2</td>\n",
       "      <td>371.898127</td>\n",
       "      <td>350.219643</td>\n",
       "      <td>412.638726</td>\n",
       "    </tr>\n",
       "    <tr>\n",
       "      <th>3</th>\n",
       "      <td>1_1</td>\n",
       "      <td>3</td>\n",
       "      <td>371.898127</td>\n",
       "      <td>350.967177</td>\n",
       "      <td>413.386260</td>\n",
       "    </tr>\n",
       "  </tbody>\n",
       "</table>\n",
       "</div>"
      ],
      "text/plain": [
       "    id  time         ch0         ch1         ch2\n",
       "0  1_1     0  372.271894  350.219643  408.527289\n",
       "1  1_1     1  373.393195  349.845876  411.143658\n",
       "2  1_1     2  371.898127  350.219643  412.638726\n",
       "3  1_1     3  371.898127  350.967177  413.386260"
      ]
     },
     "metadata": {},
     "output_type": "display_data"
    },
    {
     "name": "stdout",
     "output_type": "stream",
     "text": [
      "Taking features by feature engineering\n"
     ]
    },
    {
     "data": {
      "text/html": [
       "<div>\n",
       "<style scoped>\n",
       "    .dataframe tbody tr th:only-of-type {\n",
       "        vertical-align: middle;\n",
       "    }\n",
       "\n",
       "    .dataframe tbody tr th {\n",
       "        vertical-align: top;\n",
       "    }\n",
       "\n",
       "    .dataframe thead th {\n",
       "        text-align: right;\n",
       "    }\n",
       "</style>\n",
       "<table border=\"1\" class=\"dataframe\">\n",
       "  <thead>\n",
       "    <tr style=\"text-align: right;\">\n",
       "      <th></th>\n",
       "      <th>id</th>\n",
       "      <th>ch0_mean</th>\n",
       "      <th>ch0_std</th>\n",
       "      <th>ch0_min</th>\n",
       "      <th>ch0_25%</th>\n",
       "      <th>ch0_50%</th>\n",
       "      <th>ch0_75%</th>\n",
       "      <th>ch0_max</th>\n",
       "      <th>ch1_mean</th>\n",
       "      <th>ch1_std</th>\n",
       "      <th>...</th>\n",
       "      <th>ch1_50%</th>\n",
       "      <th>ch1_75%</th>\n",
       "      <th>ch1_max</th>\n",
       "      <th>ch2_mean</th>\n",
       "      <th>ch2_std</th>\n",
       "      <th>ch2_min</th>\n",
       "      <th>ch2_25%</th>\n",
       "      <th>ch2_50%</th>\n",
       "      <th>ch2_75%</th>\n",
       "      <th>ch2_max</th>\n",
       "    </tr>\n",
       "  </thead>\n",
       "  <tbody>\n",
       "    <tr>\n",
       "      <th>0</th>\n",
       "      <td>1_1</td>\n",
       "      <td>372.823823</td>\n",
       "      <td>59.454892</td>\n",
       "      <td>-27.284988</td>\n",
       "      <td>367.412923</td>\n",
       "      <td>370.776826</td>\n",
       "      <td>374.140729</td>\n",
       "      <td>866.018051</td>\n",
       "      <td>344.986750</td>\n",
       "      <td>39.969085</td>\n",
       "      <td>...</td>\n",
       "      <td>356.573682</td>\n",
       "      <td>364.049021</td>\n",
       "      <td>383.858670</td>\n",
       "      <td>399.059928</td>\n",
       "      <td>49.083127</td>\n",
       "      <td>370.403059</td>\n",
       "      <td>378.252165</td>\n",
       "      <td>383.111136</td>\n",
       "      <td>406.658454</td>\n",
       "      <td>866.018051</td>\n",
       "    </tr>\n",
       "    <tr>\n",
       "      <th>1</th>\n",
       "      <td>2_1</td>\n",
       "      <td>373.564972</td>\n",
       "      <td>98.170505</td>\n",
       "      <td>-262.758174</td>\n",
       "      <td>368.160457</td>\n",
       "      <td>371.898127</td>\n",
       "      <td>375.262030</td>\n",
       "      <td>1166.152921</td>\n",
       "      <td>343.370364</td>\n",
       "      <td>60.537962</td>\n",
       "      <td>...</td>\n",
       "      <td>356.573682</td>\n",
       "      <td>365.170322</td>\n",
       "      <td>387.970106</td>\n",
       "      <td>403.912357</td>\n",
       "      <td>77.323821</td>\n",
       "      <td>365.917856</td>\n",
       "      <td>380.121000</td>\n",
       "      <td>386.101272</td>\n",
       "      <td>405.910921</td>\n",
       "      <td>1166.152921</td>\n",
       "    </tr>\n",
       "    <tr>\n",
       "      <th>2</th>\n",
       "      <td>4_1</td>\n",
       "      <td>375.149900</td>\n",
       "      <td>77.360223</td>\n",
       "      <td>295.275900</td>\n",
       "      <td>351.340944</td>\n",
       "      <td>368.534224</td>\n",
       "      <td>381.242301</td>\n",
       "      <td>1069.721045</td>\n",
       "      <td>345.019610</td>\n",
       "      <td>20.214943</td>\n",
       "      <td>...</td>\n",
       "      <td>346.108207</td>\n",
       "      <td>358.816283</td>\n",
       "      <td>407.032221</td>\n",
       "      <td>410.768178</td>\n",
       "      <td>74.900695</td>\n",
       "      <td>342.370537</td>\n",
       "      <td>384.606204</td>\n",
       "      <td>395.445446</td>\n",
       "      <td>418.618997</td>\n",
       "      <td>1069.721045</td>\n",
       "    </tr>\n",
       "    <tr>\n",
       "      <th>3</th>\n",
       "      <td>5_1</td>\n",
       "      <td>373.982345</td>\n",
       "      <td>84.538827</td>\n",
       "      <td>182.772044</td>\n",
       "      <td>349.472109</td>\n",
       "      <td>364.983438</td>\n",
       "      <td>378.625932</td>\n",
       "      <td>1124.291021</td>\n",
       "      <td>346.074879</td>\n",
       "      <td>27.205842</td>\n",
       "      <td>...</td>\n",
       "      <td>349.472109</td>\n",
       "      <td>361.432652</td>\n",
       "      <td>398.809348</td>\n",
       "      <td>408.648764</td>\n",
       "      <td>84.655027</td>\n",
       "      <td>349.098342</td>\n",
       "      <td>377.504631</td>\n",
       "      <td>391.707776</td>\n",
       "      <td>409.648590</td>\n",
       "      <td>1124.291021</td>\n",
       "    </tr>\n",
       "  </tbody>\n",
       "</table>\n",
       "<p>4 rows × 22 columns</p>\n",
       "</div>"
      ],
      "text/plain": [
       "    id    ch0_mean    ch0_std     ch0_min     ch0_25%     ch0_50%     ch0_75%   \n",
       "0  1_1  372.823823  59.454892  -27.284988  367.412923  370.776826  374.140729  \\\n",
       "1  2_1  373.564972  98.170505 -262.758174  368.160457  371.898127  375.262030   \n",
       "2  4_1  375.149900  77.360223  295.275900  351.340944  368.534224  381.242301   \n",
       "3  5_1  373.982345  84.538827  182.772044  349.472109  364.983438  378.625932   \n",
       "\n",
       "       ch0_max    ch1_mean    ch1_std  ...     ch1_50%     ch1_75%   \n",
       "0   866.018051  344.986750  39.969085  ...  356.573682  364.049021  \\\n",
       "1  1166.152921  343.370364  60.537962  ...  356.573682  365.170322   \n",
       "2  1069.721045  345.019610  20.214943  ...  346.108207  358.816283   \n",
       "3  1124.291021  346.074879  27.205842  ...  349.472109  361.432652   \n",
       "\n",
       "      ch1_max    ch2_mean    ch2_std     ch2_min     ch2_25%     ch2_50%   \n",
       "0  383.858670  399.059928  49.083127  370.403059  378.252165  383.111136  \\\n",
       "1  387.970106  403.912357  77.323821  365.917856  380.121000  386.101272   \n",
       "2  407.032221  410.768178  74.900695  342.370537  384.606204  395.445446   \n",
       "3  398.809348  408.648764  84.655027  349.098342  377.504631  391.707776   \n",
       "\n",
       "      ch2_75%      ch2_max  \n",
       "0  406.658454   866.018051  \n",
       "1  405.910921  1166.152921  \n",
       "2  418.618997  1069.721045  \n",
       "3  409.648590  1124.291021  \n",
       "\n",
       "[4 rows x 22 columns]"
      ]
     },
     "metadata": {},
     "output_type": "display_data"
    }
   ],
   "source": [
    "# load data\n",
    "df_samples = pd.read_csv('../data/data.csv', index_col='Unnamed: 0')\n",
    "display(df_samples.head(4))\n",
    "\n",
    "print('Taking features by feature engineering')\n",
    "df_props = feature_engineering(df_samples)\n",
    "display(df_props.head(4))"
   ]
  },
  {
   "cell_type": "code",
   "execution_count": 3,
   "metadata": {},
   "outputs": [],
   "source": [
    "points = df_props.drop(['id'], axis=1).to_numpy()\n",
    "scaler = StandardScaler()\n",
    "points = scaler.fit_transform(points)"
   ]
  },
  {
   "cell_type": "code",
   "execution_count": 4,
   "metadata": {},
   "outputs": [
    {
     "name": "stderr",
     "output_type": "stream",
     "text": [
      "  0%|          | 0/4 [00:00<?, ?it/s]"
     ]
    },
    {
     "name": "stderr",
     "output_type": "stream",
     "text": [
      "100%|██████████| 4/4 [00:01<00:00,  2.27it/s]\n"
     ]
    },
    {
     "name": "stdout",
     "output_type": "stream",
     "text": [
      "For KMeans best silhouette score  0.242\n",
      "Best parameter for KMeans: {'init': 'k-means++', 'algorithm': 'full'}\n"
     ]
    },
    {
     "name": "stderr",
     "output_type": "stream",
     "text": [
      "100%|██████████| 6/6 [00:00<00:00, 12.57it/s]\n"
     ]
    },
    {
     "name": "stdout",
     "output_type": "stream",
     "text": [
      "For GaussianMixture best silhouette score  0.254\n",
      "Best parameter for GaussianMixture: {'init_params': 'kmeans', 'covariance_type': 'tied'}\n"
     ]
    },
    {
     "name": "stderr",
     "output_type": "stream",
     "text": [
      "100%|██████████| 27/27 [00:02<00:00, 12.01it/s]\n"
     ]
    },
    {
     "name": "stdout",
     "output_type": "stream",
     "text": [
      "For Birch best silhouette score  0.404\n",
      "Best parameter for Birch: {'threshold': 0.4375, 'branching_factor': 10}\n"
     ]
    },
    {
     "name": "stderr",
     "output_type": "stream",
     "text": [
      "100%|██████████| 2/2 [00:00<00:00, 93.59it/s]"
     ]
    },
    {
     "name": "stdout",
     "output_type": "stream",
     "text": [
      "For AgglomerativeClustering best silhouette score  0.483\n",
      "Best parameter for AgglomerativeClustering: {'linkage': 'average'}\n"
     ]
    },
    {
     "name": "stderr",
     "output_type": "stream",
     "text": [
      "\n"
     ]
    }
   ],
   "source": [
    "from sklearn.cluster import Birch, AgglomerativeClustering\n",
    "random_seed = 42\n",
    "n_clust_approx = 6\n",
    "\n",
    "clstrs = [KMeans,\n",
    "         GaussianMixture,\n",
    "         Birch,\n",
    "         AgglomerativeClustering]\n",
    "\n",
    "clstr_labels = ['KMeans',\n",
    "                'GaussianMixture',\n",
    "                'Birch',\n",
    "                'AgglomerativeClustering']\n",
    "\n",
    "param_grids = [{'init' : ['k-means++', 'random'],\n",
    "                'algorithm' : ['full', 'elkan']},\n",
    "              {'covariance_type' : ['full', 'tied', 'spherical'],\n",
    "               'init_params' : ['kmeans', 'random']},\n",
    "              {'threshold' : np.linspace(0.1,1,9),\n",
    "               'branching_factor' : [10, 50, 100]},\n",
    "              {'linkage' : ['ward', 'average']}]\n",
    "\n",
    "def customGridSearch(param_dict, estimator, X, label, n_clust):\n",
    "    best_score_index_ = 0\n",
    "    best_sil_score_ = 0\n",
    "    best_mut_score = 0\n",
    "    best_params_ = {}\n",
    "    param_grid = ParameterGrid(param_dict)\n",
    "    for i in tqdm(range(len(param_grid))):\n",
    "        if label != 'GaussianMixture':\n",
    "            if label != 'KMeans':\n",
    "                est = estimator(n_clusters=n_clust, **param_grid[i])\n",
    "            else:\n",
    "                est = estimator(n_clusters=n_clust_approx, random_state = random_seed, **param_grid[i])\n",
    "        else: \n",
    "            est = estimator(n_components=n_clust, random_state = random_seed, **param_grid[i])\n",
    "        \n",
    "        y_pred = est.fit_predict(X)\n",
    "        sil_score = silhouette_score(X, y_pred)\n",
    "        if best_sil_score_ < sil_score:\n",
    "            best_score_index_ = i\n",
    "            best_sil_score_ = sil_score\n",
    "            best_params_ = param_grid[i]\n",
    "    print(f'For {label} best silhouette score {best_sil_score_: .3f}')\n",
    "    print(f'Best parameter for {label}: {best_params_}')   \n",
    "        \n",
    "    return best_sil_score_, best_params_\n",
    "\n",
    "best_params_arr = []\n",
    "\n",
    "for clstr, clstr_label, param_grid in zip(clstrs, clstr_labels, param_grids):\n",
    "    _, bp = customGridSearch(param_grid, clstr, points, clstr_label, n_clust=n_clust_approx)\n",
    "    best_params_arr.append(bp)"
   ]
  },
  {
   "cell_type": "code",
   "execution_count": 5,
   "metadata": {},
   "outputs": [
    {
     "name": "stderr",
     "output_type": "stream",
     "text": [
      "100%|██████████| 4/4 [00:00<00:00, 95.62it/s]\n"
     ]
    },
    {
     "data": {
      "image/png": "[encoded data removed]",
      "text/plain": [
       "<Figure size 864x576 with 1 Axes>"
      ]
     },
     "metadata": {
      "needs_background": "light"
     },
     "output_type": "display_data"
    }
   ],
   "source": [
    "clstr_nums =  range(3,16,1)\n",
    "\n",
    "def clstr_calc(clstr_fun, best_params, clstr_label, X=points):\n",
    "    '''\n",
    "    :param clstr: function;\n",
    "    :param best_params: dict;\n",
    "    :param clstr_label: str;\n",
    "    :return: list.\n",
    "    '''\n",
    "    sil_scores = []\n",
    "    # mut_scores = []\n",
    "    for i in range(len(clstr_nums)):\n",
    "        if clstr_label != 'GaussianMixture':\n",
    "            if clstr_label != 'KMeans':\n",
    "                clstr = clstr_fun(n_clusters=clstr_nums[i], **best_params)\n",
    "            else:\n",
    "                clstr = clstr_fun(n_clusters=clstr_nums[i], random_state = random_seed, **best_params)\n",
    "        else: \n",
    "            clstr = clstr_fun(n_components=clstr_nums[i], random_state = random_seed, **best_params)\n",
    "        y_pred = clstr.fit_predict(X)\n",
    "        sil_score = silhouette_score(X, y_pred)\n",
    "        sil_scores.append(sil_score)\n",
    "    return sil_scores\n",
    "        \n",
    "sils =  []\n",
    "for clstr, clstr_label,  best_params in zip(clstrs, clstr_labels,  best_params_arr):\n",
    "    sil = clstr_calc(clstr, best_params, clstr_label)\n",
    "    sils.append(sil)\n",
    "\n",
    "plt.figure(figsize=(12,8))\n",
    "for i in tqdm(range(len(sils))):\n",
    "    plt.plot(clstr_nums, sils[i], label=clstr_labels[i])\n",
    "# plt.vlines(15, np.min(sils)-0.01, np.max(sils)+0.01, ls = '--')\n",
    "plt.ylim(np.min(sils)-0.01, np.max(sils)+0.01)\n",
    "plt.xlabel('Number of clusters')\n",
    "plt.legend()\n",
    "plt.title('sihouette_score')\n",
    "plt.savefig('../imgs/classical_clustering_sl.png')\n",
    "plt.show()"
   ]
  },
  {
   "cell_type": "code",
   "execution_count": 6,
   "metadata": {},
   "outputs": [
    {
     "name": "stderr",
     "output_type": "stream",
     "text": [
      "100%|██████████| 50/50 [00:13<00:00,  3.66it/s]\n"
     ]
    },
    {
     "name": "stdout",
     "output_type": "stream",
     "text": [
      "Number of clusters: 3\n",
      "\tVariance: 0.0013107961794185656\n",
      "\tConfidence interval: (0.3204152632741091, 0.46233593894273184)\n"
     ]
    },
    {
     "name": "stderr",
     "output_type": "stream",
     "text": [
      "100%|██████████| 50/50 [00:14<00:00,  3.50it/s]\n"
     ]
    },
    {
     "name": "stdout",
     "output_type": "stream",
     "text": [
      "Number of clusters: 4\n",
      "\tVariance: 0.0019198996610944872\n",
      "\tConfidence interval: (0.277524420456745, 0.4492825700503999)\n"
     ]
    },
    {
     "name": "stderr",
     "output_type": "stream",
     "text": [
      "100%|██████████| 50/50 [00:14<00:00,  3.36it/s]\n"
     ]
    },
    {
     "name": "stdout",
     "output_type": "stream",
     "text": [
      "Number of clusters: 5\n",
      "\tVariance: 0.002874034190517424\n",
      "\tConfidence interval: (0.2492054314413892, 0.45935284629239004)\n"
     ]
    },
    {
     "name": "stderr",
     "output_type": "stream",
     "text": [
      "100%|██████████| 50/50 [00:14<00:00,  3.48it/s]\n"
     ]
    },
    {
     "name": "stdout",
     "output_type": "stream",
     "text": [
      "Number of clusters: 6\n",
      "\tVariance: 0.0031413250221903888\n",
      "\tConfidence interval: (0.21088247979874056, 0.43058473936982866)\n"
     ]
    },
    {
     "name": "stderr",
     "output_type": "stream",
     "text": [
      "100%|██████████| 50/50 [00:14<00:00,  3.41it/s]\n"
     ]
    },
    {
     "name": "stdout",
     "output_type": "stream",
     "text": [
      "Number of clusters: 7\n",
      "\tVariance: 0.0024666013581893347\n",
      "\tConfidence interval: (0.20271747578585145, 0.3974002695253346)\n"
     ]
    },
    {
     "name": "stderr",
     "output_type": "stream",
     "text": [
      "100%|██████████| 50/50 [00:14<00:00,  3.46it/s]\n"
     ]
    },
    {
     "name": "stdout",
     "output_type": "stream",
     "text": [
      "Number of clusters: 8\n",
      "\tVariance: 0.0010239199031929142\n",
      "\tConfidence interval: (0.22244892765165603, 0.3478817167269962)\n"
     ]
    },
    {
     "name": "stderr",
     "output_type": "stream",
     "text": [
      "100%|██████████| 50/50 [00:14<00:00,  3.41it/s]\n"
     ]
    },
    {
     "name": "stdout",
     "output_type": "stream",
     "text": [
      "Number of clusters: 9\n",
      "\tVariance: 0.0007108710722692099\n",
      "\tConfidence interval: (0.2220273394074087, 0.32654110789644264)\n"
     ]
    },
    {
     "name": "stderr",
     "output_type": "stream",
     "text": [
      "100%|██████████| 50/50 [00:14<00:00,  3.34it/s]\n"
     ]
    },
    {
     "name": "stdout",
     "output_type": "stream",
     "text": [
      "Number of clusters: 10\n",
      "\tVariance: 0.0005931242498293614\n",
      "\tConfidence interval: (0.2305591892721623, 0.3260256730510171)\n"
     ]
    },
    {
     "name": "stderr",
     "output_type": "stream",
     "text": [
      "100%|██████████| 50/50 [00:14<00:00,  3.36it/s]\n"
     ]
    },
    {
     "name": "stdout",
     "output_type": "stream",
     "text": [
      "Number of clusters: 11\n",
      "\tVariance: 0.00046305739666422665\n",
      "\tConfidence interval: (0.23171662706618884, 0.3160686494700044)\n"
     ]
    },
    {
     "name": "stderr",
     "output_type": "stream",
     "text": [
      "100%|██████████| 50/50 [00:15<00:00,  3.24it/s]\n"
     ]
    },
    {
     "name": "stdout",
     "output_type": "stream",
     "text": [
      "Number of clusters: 12\n",
      "\tVariance: 0.000486369809743169\n",
      "\tConfidence interval: (0.24002034848469622, 0.3264696306276318)\n"
     ]
    },
    {
     "name": "stderr",
     "output_type": "stream",
     "text": [
      "100%|██████████| 50/50 [00:15<00:00,  3.20it/s]\n"
     ]
    },
    {
     "name": "stdout",
     "output_type": "stream",
     "text": [
      "Number of clusters: 13\n",
      "\tVariance: 0.00044355345269683565\n",
      "\tConfidence interval: (0.24732180507156373, 0.329878266316256)\n"
     ]
    },
    {
     "name": "stderr",
     "output_type": "stream",
     "text": [
      "100%|██████████| 50/50 [00:15<00:00,  3.15it/s]\n"
     ]
    },
    {
     "name": "stdout",
     "output_type": "stream",
     "text": [
      "Number of clusters: 14\n",
      "\tVariance: 0.00039663162158598943\n",
      "\tConfidence interval: (0.2544274415131078, 0.33249520800626975)\n"
     ]
    },
    {
     "name": "stderr",
     "output_type": "stream",
     "text": [
      "100%|██████████| 50/50 [00:15<00:00,  3.18it/s]"
     ]
    },
    {
     "name": "stdout",
     "output_type": "stream",
     "text": [
      "Number of clusters: 15\n",
      "\tVariance: 0.0005156752124448366\n",
      "\tConfidence interval: (0.25620728414708155, 0.3452229028543519)\n"
     ]
    },
    {
     "name": "stderr",
     "output_type": "stream",
     "text": [
      "\n"
     ]
    }
   ],
   "source": [
    "from sklearn.utils import resample\n",
    "from scipy import stats\n",
    "\n",
    "def conf_int(data, val=0.95):\n",
    "    return stats.norm.interval(val, np.mean(data, axis=0), np.std(data, axis=0))\n",
    "\n",
    "\n",
    "clstr_fun = KMeans\n",
    "\n",
    "scores = []\n",
    "variances = []\n",
    "ci = []\n",
    "\n",
    "for i in clstr_nums:\n",
    "    sils = []\n",
    "    for j in tqdm(range(50)):\n",
    "        X_step = resample(points)\n",
    "        clstr = clstr_fun(n_clusters=i, random_state = random_seed, **best_params_arr[0])\n",
    "        y_pred = clstr.fit_predict(X_step)\n",
    "        sil = silhouette_score(X_step, y_pred)\n",
    "        sils.append(sil)\n",
    "    scores.append(np.mean(sils))\n",
    "    ci.append(conf_int(sils))\n",
    "    variances.append(np.var(sils))\n",
    "    print(f'Number of clusters: {i}')\n",
    "    print(f'\\tVariance: {variances[-1]}')\n",
    "    print(f'\\tConfidence interval: {ci[-1]}')\n",
    "\n",
    "ci0, ci1 = [], []\n",
    "for item in ci:\n",
    "    ci0.append(item[0])\n",
    "    ci1.append(item[1])\n"
   ]
  },
  {
   "cell_type": "code",
   "execution_count": 7,
   "metadata": {},
   "outputs": [
    {
     "data": {
      "image/png": "[encoded data removed]",
      "text/plain": [
       "<Figure size 864x432 with 1 Axes>"
      ]
     },
     "metadata": {
      "needs_background": "light"
     },
     "output_type": "display_data"
    }
   ],
   "source": [
    "plt.figure(figsize=(12,6))\n",
    "plt.plot(clstr_nums, scores)\n",
    "plt.fill_between(clstr_nums, ci0, ci1, alpha=0.2)\n",
    "plt.ylim(np.min(ci0)-0.01, np.max(ci1)+0.01)\n",
    "plt.title(\"Mean silhouette score and it's 95% confidence interval\")\n",
    "plt.xlabel('Number of clusters')\n",
    "plt.ylabel('Silhouette score')\n",
    "plt.savefig('../imgs/classical_clustering_sl_ti.png')\n",
    "plt.show()\n"
   ]
  },
  {
   "cell_type": "code",
   "execution_count": null,
   "metadata": {},
   "outputs": [],
   "source": []
  },
  {
   "cell_type": "code",
   "execution_count": null,
   "metadata": {},
   "outputs": [],
   "source": []
  }
 ],
 "metadata": {
  "kernelspec": {
   "display_name": "Python 3 (ipykernel)",
   "language": "python",
   "name": "python3"
  },
  "language_info": {
   "codemirror_mode": {
    "name": "ipython",
    "version": 3
   },
   "file_extension": ".py",
   "mimetype": "text/x-python",
   "name": "python",
   "nbconvert_exporter": "python",
   "pygments_lexer": "ipython3",
   "version": "3.8.8"
  }
 },
 "nbformat": 4,
 "nbformat_minor": 4
}
