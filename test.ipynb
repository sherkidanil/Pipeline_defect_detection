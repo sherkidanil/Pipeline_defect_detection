{
 "cells": [
  {
   "cell_type": "code",
   "execution_count": 1,
   "metadata": {
    "collapsed": true,
    "pycharm": {
     "name": "#%%\n"
    }
   },
   "outputs": [],
   "source": [
    "import pandas as pd"
   ]
  },
  {
   "cell_type": "code",
   "execution_count": 9,
   "outputs": [
    {
     "data": {
      "text/plain": "      id target\n0  111_1     OD\n1  103_1     OD\n2   34_2     ID\n3   78_1     OD\n4   71_2     OD\n5    5_2     OD\n6   69_2     OD\n7  209_2     ID\n8  104_2     OD\n9  189_1     ID",
      "text/html": "<div>\n<style scoped>\n    .dataframe tbody tr th:only-of-type {\n        vertical-align: middle;\n    }\n\n    .dataframe tbody tr th {\n        vertical-align: top;\n    }\n\n    .dataframe thead th {\n        text-align: right;\n    }\n</style>\n<table border=\"1\" class=\"dataframe\">\n  <thead>\n    <tr style=\"text-align: right;\">\n      <th></th>\n      <th>id</th>\n      <th>target</th>\n    </tr>\n  </thead>\n  <tbody>\n    <tr>\n      <th>0</th>\n      <td>111_1</td>\n      <td>OD</td>\n    </tr>\n    <tr>\n      <th>1</th>\n      <td>103_1</td>\n      <td>OD</td>\n    </tr>\n    <tr>\n      <th>2</th>\n      <td>34_2</td>\n      <td>ID</td>\n    </tr>\n    <tr>\n      <th>3</th>\n      <td>78_1</td>\n      <td>OD</td>\n    </tr>\n    <tr>\n      <th>4</th>\n      <td>71_2</td>\n      <td>OD</td>\n    </tr>\n    <tr>\n      <th>5</th>\n      <td>5_2</td>\n      <td>OD</td>\n    </tr>\n    <tr>\n      <th>6</th>\n      <td>69_2</td>\n      <td>OD</td>\n    </tr>\n    <tr>\n      <th>7</th>\n      <td>209_2</td>\n      <td>ID</td>\n    </tr>\n    <tr>\n      <th>8</th>\n      <td>104_2</td>\n      <td>OD</td>\n    </tr>\n    <tr>\n      <th>9</th>\n      <td>189_1</td>\n      <td>ID</td>\n    </tr>\n  </tbody>\n</table>\n</div>"
     },
     "execution_count": 9,
     "metadata": {},
     "output_type": "execute_result"
    }
   ],
   "source": [
    "raw_data = pd.read_csv('data/data.csv')\n",
    "raw_labels = pd.read_csv('data/target_train.csv')\n",
    "raw_data.head(10)\n",
    "raw_labels.head(10)"
   ],
   "metadata": {
    "collapsed": false,
    "pycharm": {
     "name": "#%%\n"
    }
   }
  },
  {
   "cell_type": "code",
   "execution_count": null,
   "outputs": [],
   "source": [],
   "metadata": {
    "collapsed": false,
    "pycharm": {
     "name": "#%%\n"
    }
   }
  }
 ],
 "metadata": {
  "kernelspec": {
   "display_name": "Python 3",
   "language": "python",
   "name": "python3"
  },
  "language_info": {
   "codemirror_mode": {
    "name": "ipython",
    "version": 2
   },
   "file_extension": ".py",
   "mimetype": "text/x-python",
   "name": "python",
   "nbconvert_exporter": "python",
   "pygments_lexer": "ipython2",
   "version": "2.7.6"
  }
 },
 "nbformat": 4,
 "nbformat_minor": 0
}